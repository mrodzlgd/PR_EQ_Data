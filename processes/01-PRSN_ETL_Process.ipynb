{
 "cells": [
  {
   "cell_type": "markdown",
   "metadata": {},
   "source": [
    "After working with the USGS Data some questions were raised about null values from 1978 to 2003, which resulted in getting an additional data source from the PR Seismic Network page: http://www.prsn.uprm.edu/Spanish/catalogue/index.php.\n",
    "\n",
    "Data is saved into a csv file then loaded and cleaned in python and finally saved in the same MySQL database."
   ]
  },
  {
   "cell_type": "code",
   "execution_count": 2,
   "metadata": {},
   "outputs": [],
   "source": [
    "from etl import connect_to_db, get_intersections, clean_data, load_to_db, scrap_prsn, load_delta_data"
   ]
  },
  {
   "cell_type": "code",
   "execution_count": 3,
   "metadata": {
    "scrolled": true
   },
   "outputs": [
    {
     "name": "stdout",
     "output_type": "stream",
     "text": [
      "Enter database password:········\n",
      "Successfull connection to MySQL database\n"
     ]
    }
   ],
   "source": [
    "db = 'eq_pr'\n",
    "user = 'root'\n",
    "conn = connect_to_db(db,user)"
   ]
  },
  {
   "cell_type": "markdown",
   "metadata": {},
   "source": [
    "# Create table to save data into MySQL"
   ]
  },
  {
   "cell_type": "code",
   "execution_count": null,
   "metadata": {},
   "outputs": [],
   "source": [
    "#Create table for Earthquake Data \n",
    "conn.execute('''CREATE TABLE `eq_pr`.`prsn_data` (\n",
    "  `id` VARCHAR(45) NOT NULL,\n",
    "  `date_time` DATETIME NOT NULL,\n",
    "  `lat` FLOAT NOT NULL,\n",
    "  `lon` FLOAT NULL,\n",
    "  `mag` FLOAT ,\n",
    "  `magType` VARCHAR(10) ,\n",
    "  `sources` VARCHAR(45) ,\n",
    "  `depth` FLOAT ,\n",
    "  `region` VARCHAR(45) NULL,\n",
    "  PRIMARY KEY (`id`),\n",
    "  INDEX `id` (`id` ASC) VISIBLE);\n",
    "''').rowcount"
   ]
  },
  {
   "cell_type": "markdown",
   "metadata": {},
   "source": [
    "# ETL Process "
   ]
  },
  {
   "cell_type": "code",
   "execution_count": null,
   "metadata": {},
   "outputs": [],
   "source": [
    "##Initial Load by year\n",
    "\n",
    "years = list(range(1986,2020))\n",
    "\n",
    "for y in years:\n",
    "\n",
    "    #set parameters for start datetime \n",
    "    syear = str(y)\n",
    "    smonth = '1'\n",
    "    sday = '1'\n",
    "    shour = '0'\n",
    "    smins = '0'\n",
    "    #set parameters for end datetime \n",
    "    eyear = str(y)\n",
    "    emonth = '12'\n",
    "    eday = '31'\n",
    "    ehour = '23'\n",
    "    emins = '59'\n",
    "\n",
    "    df=scrap_prsn_initial(syear,smonth,sday,shour,smins,eyear,emonth,eday,ehour,emins)\n",
    "    prsn_gdf = gpd.GeoDataFrame(\n",
    "        df, geometry=gpd.points_from_xy(df.lon,df.lat))\n",
    "    df = get_intersections(prsn_gdf,conn)\n",
    "    #Saving data into MySQL\n",
    "    load_to_db(df, conn, 'PRSN')"
   ]
  },
  {
   "cell_type": "code",
   "execution_count": null,
   "metadata": {
    "scrolled": false
   },
   "outputs": [],
   "source": [
    "#initial load of year 2020 since there is too much activity, doing it by day or month by month\n",
    "\n",
    "months = list(range(9,10))\n",
    "m_30 = [4,6,9,11]\n",
    "m_31 = [1,2,3,5,7,8,10,12]\n",
    "\n",
    "\n",
    "for m in months:\n",
    "    if m in (m_30):\n",
    "        ed = 30\n",
    "    elif m == 2:\n",
    "        ed = 29\n",
    "    elif m in (m_31):\n",
    "        ed = 31\n",
    "    #set parameters for start datetime \n",
    "    syear = '2020'\n",
    "    smonth = str(m)\n",
    "    sday = '1'\n",
    "    shour = '0'\n",
    "    smins = '0'\n",
    "    #set parameters for end datetime \n",
    "    eyear = '2020'\n",
    "    emonth = str(m)\n",
    "    eday = str(ed)\n",
    "    ehour = '23'\n",
    "    emins = '59'\n",
    "\n",
    "    df=scrap_prsn(syear,smonth,sday,shour,smins,eyear,emonth,eday,ehour,emins)\n",
    "    prsn_gdf = clean_data(df, 'PRSN')\n",
    "    df = get_intersections(prsn_gdf,conn)\n",
    "    #Saving data into MySQL\n",
    "    load_to_db(df, conn, 'PRSN')"
   ]
  },
  {
   "cell_type": "code",
   "execution_count": 4,
   "metadata": {
    "scrolled": true
   },
   "outputs": [
    {
     "name": "stdout",
     "output_type": "stream",
     "text": [
      "Start date =  2020-10-15 22:04:14\n",
      "End date =  2020-10-15 20:04:01.505280\n",
      "Number of records: 1\n",
      "Assigning regions...\n",
      "Validating region assignment...\n",
      "No issues with region assignmet!\n",
      "Loading data into MySQL...\n",
      "No records to update\n"
     ]
    }
   ],
   "source": [
    "#delta load to run going foward\n",
    "\n",
    "load_delta_data(conn, 'PRSN')"
   ]
  }
 ],
 "metadata": {
  "kernelspec": {
   "display_name": "Python 3",
   "language": "python",
   "name": "python3"
  },
  "language_info": {
   "codemirror_mode": {
    "name": "ipython",
    "version": 3
   },
   "file_extension": ".py",
   "mimetype": "text/x-python",
   "name": "python",
   "nbconvert_exporter": "python",
   "pygments_lexer": "ipython3",
   "version": "3.7.6"
  }
 },
 "nbformat": 4,
 "nbformat_minor": 4
}
