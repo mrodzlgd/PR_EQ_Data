{
 "cells": [
  {
   "cell_type": "code",
   "execution_count": 1,
   "metadata": {},
   "outputs": [],
   "source": [
    "from etl import connect_to_db, load_delta_data"
   ]
  },
  {
   "cell_type": "code",
   "execution_count": 2,
   "metadata": {
    "scrolled": true
   },
   "outputs": [
    {
     "name": "stdout",
     "output_type": "stream",
     "text": [
      "Enter database password:········\n",
      "Successfull connection to MySQL database\n"
     ]
    }
   ],
   "source": [
    "db = 'eq_pr'\n",
    "user = 'root'\n",
    "conn = connect_to_db(db,user)"
   ]
  },
  {
   "cell_type": "code",
   "execution_count": 3,
   "metadata": {},
   "outputs": [
    {
     "name": "stdout",
     "output_type": "stream",
     "text": [
      "\n",
      "\n",
      "Delta load for USGS data...\n",
      "\n",
      "Successful Request!\n",
      "https://earthquake.usgs.gov/fdsnws/event/1/query?format=geojson&minlatitude=17&maxlatitude=20&minlongitude=-69&maxlongitude=-63.5&updatedafter=2021-01-06T14:17:15\n",
      "Record count =  165\n",
      "Assigning regions...\n",
      "Validating region assignment...\n",
      "No issues with region assignment!\n",
      "Loading data into MySQL...\n",
      "Records before load: 53896\n",
      "Updated records: 9\n",
      "Final record count: 53905\n"
     ]
    }
   ],
   "source": [
    "load_delta_data(conn, 'USGS')"
   ]
  },
  {
   "cell_type": "code",
   "execution_count": 4,
   "metadata": {
    "scrolled": false
   },
   "outputs": [
    {
     "name": "stdout",
     "output_type": "stream",
     "text": [
      "\n",
      "\n",
      "Delta load for PRSN data...\n",
      "\n",
      "Start date =  2021-01-13 12:00:38\n",
      "End date =  2021-01-13 22:59:04.123299\n",
      "Number of records: 6\n",
      "Assigning regions...\n",
      "Validating region assignment...\n",
      "No issues with region assignment!\n",
      "Loading data into MySQL...\n",
      "Records before load: 68229\n",
      "Updated records: 5\n",
      "Final record count: 68234\n"
     ]
    }
   ],
   "source": [
    "load_delta_data(conn, 'PRSN')"
   ]
  },
  {
   "cell_type": "code",
   "execution_count": null,
   "metadata": {},
   "outputs": [],
   "source": []
  }
 ],
 "metadata": {
  "kernelspec": {
   "display_name": "Python 3",
   "language": "python",
   "name": "python3"
  },
  "language_info": {
   "codemirror_mode": {
    "name": "ipython",
    "version": 3
   },
   "file_extension": ".py",
   "mimetype": "text/x-python",
   "name": "python",
   "nbconvert_exporter": "python",
   "pygments_lexer": "ipython3",
   "version": "3.7.6"
  }
 },
 "nbformat": 4,
 "nbformat_minor": 4
}
